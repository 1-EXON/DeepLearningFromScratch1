{
 "cells": [
  {
   "cell_type": "markdown",
   "metadata": {},
   "source": [
    "# 수치 미분\n",
    "\n",
    "## 미분\n",
    "한순간의 변화량을 표시한 것.\n",
    "그래프의 한순간의 기울기인거 같음\n",
    "\n",
    "<img src=\"./img/math.png\">\n",
    "이 사진을 보면 중1 때 배웠던 기울기 수식이랑 비슷한거 같음\n",
    "x증가량 분의 y증가량 즉, x증가량/y증가량 이 기울기 구하는 식이였는데 미분도 비슷하다"
   ]
  },
  {
   "cell_type": "markdown",
   "metadata": {},
   "source": [
    "### 미분의 잘못된 예\n",
    "1e-50 는 아주 작은 숫자라서 컴퓨터에서 0.0 이라고 인식한다.\n",
    "**반올림 오차** 문제를 일으킨다.\n",
    "\n",
    "여기서 작은 숫자를 대입하는 이유는 더 정확한 기울기를 구하려고 하기 때문인듯\n",
    "이 구현으로는 진정한 미분 (진정한 접선) 을 구하기는 힘들다고 한다.\n",
    "\n",
    "1e-4 가 가장 적당한 값이라고 한다."
   ]
  },
  {
   "cell_type": "code",
   "execution_count": 1,
   "metadata": {},
   "outputs": [],
   "source": [
    "def numerical_diff(f, x):\n",
    "    h = 1e-50 # 잘못된 수\n",
    "    return (f(x+h) - f(x)) / h"
   ]
  },
  {
   "cell_type": "code",
   "execution_count": 2,
   "metadata": {},
   "outputs": [],
   "source": [
    "def numerical_diff(f, x):\n",
    "    h = 1e-4 # 옳은 수\n",
    "    return (f(x+h) - f(x)) / h"
   ]
  },
  {
   "cell_type": "markdown",
   "metadata": {},
   "source": [
    "## 전방 차분과 중심 차분, 중앙 차분\n",
    "방금 구현한 미분 함수는 f(x) 와 f(x+h) 의 기울기를 구한 것이다.\n",
    "이를 **전방 차분** 이라고 한다.\n",
    "\n",
    "중심 차분, 중앙 차분은 f(x-h) 와 f(x+h) 의 기울기를 구하는 것이므로 정확히 중심이 x 인 접선을 구하는 것이다.\n",
    "이 때, (x-h) 와 (x+h) 의 차는 2h 이므로 함수를 구할 때 h로 나누는 것이 아닌 2h 로 나누어야 한다."
   ]
  },
  {
   "cell_type": "code",
   "execution_count": 3,
   "metadata": {},
   "outputs": [],
   "source": [
    "def numerical_diff(f, x):\n",
    "    h = 1e-4\n",
    "    return (f(x+h) - f(x-h)) / (2 * h)"
   ]
  },
  {
   "cell_type": "code",
   "execution_count": null,
   "metadata": {},
   "outputs": [],
   "source": []
  }
 ],
 "metadata": {
  "kernelspec": {
   "display_name": "Python 3.10.6 64-bit",
   "language": "python",
   "name": "python3"
  },
  "language_info": {
   "codemirror_mode": {
    "name": "ipython",
    "version": 3
   },
   "file_extension": ".py",
   "mimetype": "text/x-python",
   "name": "python",
   "nbconvert_exporter": "python",
   "pygments_lexer": "ipython3",
   "version": "3.10.6"
  },
  "orig_nbformat": 4,
  "vscode": {
   "interpreter": {
    "hash": "65888023e3991c6ad9bbfc0a378c20fdea6ac12610a9f42807a73045ac4b632d"
   }
  }
 },
 "nbformat": 4,
 "nbformat_minor": 2
}
