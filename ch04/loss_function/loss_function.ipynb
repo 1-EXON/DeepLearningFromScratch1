{
 "cells": [
  {
   "cell_type": "code",
   "execution_count": 1,
   "metadata": {},
   "outputs": [],
   "source": [
    "import numpy as np"
   ]
  },
  {
   "cell_type": "code",
   "execution_count": 2,
   "metadata": {},
   "outputs": [],
   "source": [
    "# 오차제곱합\n",
    "def sum_squares_error(y, t):\n",
    "    return 0.5 * np.sum((y-t)**2)"
   ]
  },
  {
   "cell_type": "code",
   "execution_count": 3,
   "metadata": {},
   "outputs": [],
   "source": [
    "# 교차 엔트로피 오차\n",
    "def cross_entropy_error(y, t):\n",
    "    delta = 1e-7\n",
    "    return -np.sum(t * np.log(y + delta))\n",
    "# log 함수에 0 이 들어가면 마이너스 무한대가 되므로 아주 작은 값을 더해준다."
   ]
  },
  {
   "cell_type": "code",
   "execution_count": 4,
   "metadata": {},
   "outputs": [
    {
     "name": "stdout",
     "output_type": "stream",
     "text": [
      "오차제곱합: 0.09750000000000003\n",
      "교차 엔트로피 오차: 0.510825457099338\n",
      "오차제곱합: 0.5975\n",
      "교차 엔트로피 오차: 2.302584092994546\n"
     ]
    }
   ],
   "source": [
    "t = [0, 0, 1, 0, 0, 0, 0, 0, 0, 0]\n",
    "y = [0.1, 0.05, 0.6, 0, 0.05, 0.1, 0, 0.1, 0, 0]\n",
    "print(f'오차제곱합: {sum_squares_error(np.array(y), np.array(t))}')\n",
    "print(f'교차 엔트로피 오차: {cross_entropy_error(np.array(y), np.array(t))}')\n",
    "\n",
    "y = [0.1, 0.05, 0.1, 0, 0.05, 0.1, 0, 0.6, 0, 0]\n",
    "print(f'오차제곱합: {sum_squares_error(np.array(y), np.array(t))}')\n",
    "print(f'교차 엔트로피 오차: {cross_entropy_error(np.array(y), np.array(t))}')"
   ]
  },
  {
   "cell_type": "code",
   "execution_count": null,
   "metadata": {},
   "outputs": [],
   "source": []
  }
 ],
 "metadata": {
  "kernelspec": {
   "display_name": "Python 3.10.6 64-bit",
   "language": "python",
   "name": "python3"
  },
  "language_info": {
   "codemirror_mode": {
    "name": "ipython",
    "version": 3
   },
   "file_extension": ".py",
   "mimetype": "text/x-python",
   "name": "python",
   "nbconvert_exporter": "python",
   "pygments_lexer": "ipython3",
   "version": "3.10.6"
  },
  "orig_nbformat": 4,
  "vscode": {
   "interpreter": {
    "hash": "65888023e3991c6ad9bbfc0a378c20fdea6ac12610a9f42807a73045ac4b632d"
   }
  }
 },
 "nbformat": 4,
 "nbformat_minor": 2
}
